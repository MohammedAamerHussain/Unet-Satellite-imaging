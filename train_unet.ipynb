{
 "cells": [
  {
   "cell_type": "code",
   "execution_count": 2,
   "metadata": {},
   "outputs": [
    {
     "ename": "ModuleNotFoundError",
     "evalue": "No module named 'unet_model'",
     "output_type": "error",
     "traceback": [
      "\u001b[0;31m---------------------------------------------------------------------------\u001b[0m",
      "\u001b[0;31mModuleNotFoundError\u001b[0m                       Traceback (most recent call last)",
      "\u001b[0;32m<ipython-input-2-d507e318674a>\u001b[0m in \u001b[0;36m<module>\u001b[0;34m\u001b[0m\n\u001b[0;32m----> 1\u001b[0;31m \u001b[0;32mfrom\u001b[0m \u001b[0munet_model\u001b[0m \u001b[0;32mimport\u001b[0m \u001b[0;34m*\u001b[0m\u001b[0;34m\u001b[0m\u001b[0;34m\u001b[0m\u001b[0m\n\u001b[0m\u001b[1;32m      2\u001b[0m \u001b[0;32mfrom\u001b[0m \u001b[0mgen_patches\u001b[0m \u001b[0;32mimport\u001b[0m \u001b[0;34m*\u001b[0m\u001b[0;34m\u001b[0m\u001b[0;34m\u001b[0m\u001b[0m\n\u001b[1;32m      3\u001b[0m \u001b[0;34m\u001b[0m\u001b[0m\n\u001b[1;32m      4\u001b[0m \u001b[0;32mimport\u001b[0m \u001b[0mos\u001b[0m\u001b[0;34m.\u001b[0m\u001b[0mpath\u001b[0m\u001b[0;34m\u001b[0m\u001b[0;34m\u001b[0m\u001b[0m\n\u001b[1;32m      5\u001b[0m \u001b[0;32mimport\u001b[0m \u001b[0mnumpy\u001b[0m \u001b[0;32mas\u001b[0m \u001b[0mnp\u001b[0m\u001b[0;34m\u001b[0m\u001b[0;34m\u001b[0m\u001b[0m\n",
      "\u001b[0;31mModuleNotFoundError\u001b[0m: No module named 'unet_model'"
     ]
    }
   ],
   "source": [
    "from unet_model import *\n",
    "from gen_patches import *\n",
    "\n",
    "import os.path\n",
    "import numpy as np\n",
    "import tifffile as tiff\n",
    "from tensorflow.keras.callbacks import CSVLogger\n",
    "from tensorflow.keras.callbacks import TensorBoard\n",
    "from tensorflow.keras.callbacks import ModelCheckpoint\n",
    "\n",
    "\n",
    "def normalize(img):\n",
    "    min = img.min()\n",
    "    max = img.max()\n",
    "    x = 2.0 * (img - min) / (max - min) - 1.0\n",
    "    return x\n",
    "\n",
    "\n",
    "\n",
    "N_BANDS = 8\n",
    "N_CLASSES = 5  # buildings, roads, trees, crops and water\n",
    "CLASS_WEIGHTS = [0.2, 0.15, 0.1, 0.15, 0.4]\n",
    "N_EPOCHS = 100\n",
    "UPCONV = True\n",
    "PATCH_SZ = 160   # should divide by 16\n",
    "BATCH_SIZE = 100\n",
    "TRAIN_SZ = 4000  # train size\n",
    "VAL_SZ = 1000    # validation size\n",
    "\n",
    "\n",
    "def get_model():\n",
    "    return unet_model(N_CLASSES, PATCH_SZ, n_channels=N_BANDS, upconv=UPCONV, class_weights=CLASS_WEIGHTS)\n",
    "\n",
    "\n",
    "weights_path = 'weights'\n",
    "if not os.path.exists(weights_path):\n",
    "    os.makedirs(weights_path)\n",
    "weights_path += '/unet_weights.hdf5'\n",
    "\n",
    "trainIds = [str(i).zfill(2) for i in range(1, 24)]  # all availiable ids: from \"01\" to \"24\"\n",
    "\n",
    "\n",
    "if __name__ == '__main__':\n",
    "    X_DICT_TRAIN = dict()\n",
    "    Y_DICT_TRAIN = dict()\n",
    "    X_DICT_VALIDATION = dict()\n",
    "    Y_DICT_VALIDATION = dict()\n",
    "\n",
    "    print('Reading images')\n",
    "    for img_id in trainIds:\n",
    "        img_m = normalize(tiff.imread('./data/mband/{}.tif'.format(img_id)).transpose([1, 2, 0]))\n",
    "        mask = tiff.imread('./data/gt_mband/{}.tif'.format(img_id)).transpose([1, 2, 0]) / 255\n",
    "        train_xsz = int(3/4 * img_m.shape[0])  # use 75% of image as train and 25% for validation\n",
    "        X_DICT_TRAIN[img_id] = img_m[:train_xsz, :, :]\n",
    "        Y_DICT_TRAIN[img_id] = mask[:train_xsz, :, :]\n",
    "        X_DICT_VALIDATION[img_id] = img_m[train_xsz:, :, :]\n",
    "        Y_DICT_VALIDATION[img_id] = mask[train_xsz:, :, :]\n",
    "        print(img_id + ' read')\n",
    "    print('Images were read')\n",
    "\n",
    "    def train_net():\n",
    "        print(\"start train net\")\n",
    "        x_train, y_train = get_patches(X_DICT_TRAIN, Y_DICT_TRAIN, n_patches=TRAIN_SZ, sz=PATCH_SZ)\n",
    "        x_val, y_val = get_patches(X_DICT_VALIDATION, Y_DICT_VALIDATION, n_patches=VAL_SZ, sz=PATCH_SZ)\n",
    "        model = get_model()\n",
    "        if os.path.isfile(weights_path):\n",
    "            model.load_weights(weights_path)\n",
    "        model_checkpoint = ModelCheckpoint(weights_path, monitor='val_loss', save_best_only=True)\n",
    "        csv_logger = CSVLogger('log_unet.csv', append=True, separator=';')\n",
    "        tensorboard = TensorBoard(log_dir='./tensorboard_unet/', write_graph=True, write_images=True)\n",
    "        model.fit(x_train, y_train, batch_size=BATCH_SIZE, epochs=N_EPOCHS,\n",
    "                  verbose=2, shuffle=True,\n",
    "                  callbacks=[model_checkpoint, csv_logger, tensorboard],\n",
    "                  validation_data=(x_val, y_val))\n",
    "        return model\n",
    "\n",
    "    train_net()\n"
   ]
  },
  {
   "cell_type": "code",
   "execution_count": null,
   "metadata": {},
   "outputs": [],
   "source": []
  }
 ],
 "metadata": {
  "kernelspec": {
   "display_name": "Python 3",
   "language": "python",
   "name": "python3"
  },
  "language_info": {
   "codemirror_mode": {
    "name": "ipython",
    "version": 3
   },
   "file_extension": ".py",
   "mimetype": "text/x-python",
   "name": "python",
   "nbconvert_exporter": "python",
   "pygments_lexer": "ipython3",
   "version": "3.7.4"
  }
 },
 "nbformat": 4,
 "nbformat_minor": 2
}
