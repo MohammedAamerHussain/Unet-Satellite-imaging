{
 "cells": [
  {
   "cell_type": "code",
   "execution_count": 3,
   "metadata": {},
   "outputs": [],
   "source": [
    "import random\n",
    "import numpy as np\n",
    "\n",
    "\n",
    "def get_rand_patch(img, mask, sz=160):\n",
    "    \"\"\"\n",
    "    :param img: ndarray with shape (x_sz, y_sz, num_channels)\n",
    "    :param mask: binary ndarray with shape (x_sz, y_sz, num_classes)\n",
    "    :param sz: size of random patch\n",
    "    :return: patch with shape (sz, sz, num_channels)\n",
    "    \"\"\"\n",
    "    assert len(img.shape) == 3 and img.shape[0] > sz and img.shape[1] > sz and img.shape[0:2] == mask.shape[0:2]\n",
    "    xc = random.randint(0, img.shape[0] - sz)\n",
    "    yc = random.randint(0, img.shape[1] - sz)\n",
    "    patch_img = img[xc:(xc + sz), yc:(yc + sz)]\n",
    "    patch_mask = mask[xc:(xc + sz), yc:(yc + sz)]\n",
    "    \n",
    "    # Apply some random transformations\n",
    "    random_transformation = np.random.randint(1,8)\n",
    "    if random_transformation == 1:  # reverse first dimension\n",
    "        patch_img = patch_img[::-1,:,:]\n",
    "        patch_mask = patch_mask[::-1,:,:]\n",
    "    elif random_transformation == 2:    # reverse second dimension\n",
    "        patch_img = patch_img[:,::-1,:]\n",
    "        patch_mask = patch_mask[:,::-1,:]\n",
    "    elif random_transformation == 3:    # transpose(interchange) first and second dimensions\n",
    "        patch_img = patch_img.transpose([1,0,2])\n",
    "        patch_mask = patch_mask.transpose([1,0,2])\n",
    "    elif random_transformation == 4:\n",
    "        patch_img = np.rot90(patch_img, 1)\n",
    "        patch_mask = np.rot90(patch_mask, 1)\n",
    "    elif random_transformation == 5:\n",
    "        patch_img = np.rot90(patch_img, 2)\n",
    "        patch_mask = np.rot90(patch_mask, 2)\n",
    "    elif random_transformation == 6:\n",
    "        patch_img = np.rot90(patch_img, 3)\n",
    "        patch_mask = np.rot90(patch_mask, 3)\n",
    "    else:\n",
    "        pass\n",
    "    \n",
    "    return patch_img, patch_mask\n",
    "\n",
    "\n",
    "def get_patches(x_dict, y_dict, n_patches, sz=160):\n",
    "    x = list()\n",
    "    y = list()\n",
    "    total_patches = 0\n",
    "    while total_patches < n_patches:\n",
    "        img_id = random.sample(x_dict.keys(), 1)[0]\n",
    "        img = x_dict[img_id]\n",
    "        mask = y_dict[img_id]\n",
    "        img_patch, mask_patch = get_rand_patch(img, mask, sz)\n",
    "        x.append(img_patch)\n",
    "        y.append(mask_patch)\n",
    "        total_patches += 1\n",
    "    print('Generated {} patches'.format(total_patches))\n",
    "    return np.array(x), np.array(y)"
   ]
  },
  {
   "cell_type": "code",
   "execution_count": null,
   "metadata": {},
   "outputs": [],
   "source": []
  },
  {
   "cell_type": "code",
   "execution_count": null,
   "metadata": {},
   "outputs": [],
   "source": []
  },
  {
   "cell_type": "code",
   "execution_count": null,
   "metadata": {},
   "outputs": [],
   "source": []
  },
  {
   "cell_type": "code",
   "execution_count": null,
   "metadata": {},
   "outputs": [],
   "source": []
  },
  {
   "cell_type": "code",
   "execution_count": null,
   "metadata": {},
   "outputs": [],
   "source": []
  },
  {
   "cell_type": "code",
   "execution_count": null,
   "metadata": {},
   "outputs": [],
   "source": []
  },
  {
   "cell_type": "code",
   "execution_count": null,
   "metadata": {},
   "outputs": [],
   "source": []
  },
  {
   "cell_type": "code",
   "execution_count": null,
   "metadata": {},
   "outputs": [],
   "source": []
  },
  {
   "cell_type": "code",
   "execution_count": null,
   "metadata": {},
   "outputs": [],
   "source": []
  },
  {
   "cell_type": "code",
   "execution_count": null,
   "metadata": {},
   "outputs": [],
   "source": []
  },
  {
   "cell_type": "code",
   "execution_count": null,
   "metadata": {},
   "outputs": [],
   "source": []
  },
  {
   "cell_type": "code",
   "execution_count": null,
   "metadata": {},
   "outputs": [],
   "source": []
  },
  {
   "cell_type": "code",
   "execution_count": null,
   "metadata": {},
   "outputs": [],
   "source": []
  },
  {
   "cell_type": "code",
   "execution_count": null,
   "metadata": {},
   "outputs": [],
   "source": []
  }
 ],
 "metadata": {
  "kernelspec": {
   "display_name": "Python 3",
   "language": "python",
   "name": "python3"
  },
  "language_info": {
   "codemirror_mode": {
    "name": "ipython",
    "version": 3
   },
   "file_extension": ".py",
   "mimetype": "text/x-python",
   "name": "python",
   "nbconvert_exporter": "python",
   "pygments_lexer": "ipython3",
   "version": "3.7.4"
  }
 },
 "nbformat": 4,
 "nbformat_minor": 2
}
