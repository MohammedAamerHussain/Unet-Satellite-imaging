{
 "cells": [
  {
   "cell_type": "code",
   "execution_count": 1,
   "metadata": {},
   "outputs": [
    {
     "ename": "ModuleNotFoundError",
     "evalue": "No module named 'train_unet'",
     "output_type": "error",
     "traceback": [
      "\u001b[0;31m---------------------------------------------------------------------------\u001b[0m",
      "\u001b[0;31mModuleNotFoundError\u001b[0m                       Traceback (most recent call last)",
      "\u001b[0;32m<ipython-input-1-a72750ac398d>\u001b[0m in \u001b[0;36m<module>\u001b[0;34m\u001b[0m\n\u001b[1;32m      4\u001b[0m \u001b[0;32mimport\u001b[0m \u001b[0mtifffile\u001b[0m \u001b[0;32mas\u001b[0m \u001b[0mtiff\u001b[0m\u001b[0;34m\u001b[0m\u001b[0;34m\u001b[0m\u001b[0m\n\u001b[1;32m      5\u001b[0m \u001b[0;34m\u001b[0m\u001b[0m\n\u001b[0;32m----> 6\u001b[0;31m \u001b[0;32mfrom\u001b[0m \u001b[0mtrain_unet\u001b[0m \u001b[0;32mimport\u001b[0m \u001b[0mweights_path\u001b[0m\u001b[0;34m,\u001b[0m \u001b[0mget_model\u001b[0m\u001b[0;34m,\u001b[0m \u001b[0mnormalize\u001b[0m\u001b[0;34m,\u001b[0m \u001b[0mPATCH_SZ\u001b[0m\u001b[0;34m,\u001b[0m \u001b[0mN_CLASSES\u001b[0m\u001b[0;34m\u001b[0m\u001b[0;34m\u001b[0m\u001b[0m\n\u001b[0m\u001b[1;32m      7\u001b[0m \u001b[0;34m\u001b[0m\u001b[0m\n\u001b[1;32m      8\u001b[0m \u001b[0;34m\u001b[0m\u001b[0m\n",
      "\u001b[0;31mModuleNotFoundError\u001b[0m: No module named 'train_unet'"
     ]
    }
   ],
   "source": [
    "import math\n",
    "import numpy as np\n",
    "import matplotlib.pyplot as plt\n",
    "import tifffile as tiff\n",
    "\n",
    "from train_unet import weights_path, get_model, normalize, PATCH_SZ, N_CLASSES\n",
    "\n",
    "\n",
    "def predict(x, model, patch_sz=160, n_classes=5):\n",
    "    img_height = x.shape[0]\n",
    "    img_width = x.shape[1]\n",
    "    n_channels = x.shape[2]\n",
    "    # make extended img so that it contains integer number of patches\n",
    "    npatches_vertical = math.ceil(img_height / patch_sz)\n",
    "    npatches_horizontal = math.ceil(img_width / patch_sz)\n",
    "    extended_height = patch_sz * npatches_vertical\n",
    "    extended_width = patch_sz * npatches_horizontal\n",
    "    ext_x = np.zeros(shape=(extended_height, extended_width, n_channels), dtype=np.float32)\n",
    "    # fill extended image with mirrors:\n",
    "    ext_x[:img_height, :img_width, :] = x\n",
    "    for i in range(img_height, extended_height):\n",
    "        ext_x[i, :, :] = ext_x[2 * img_height - i - 1, :, :]\n",
    "    for j in range(img_width, extended_width):\n",
    "        ext_x[:, j, :] = ext_x[:, 2 * img_width - j - 1, :]\n",
    "\n",
    "    # now we assemble all patches in one array\n",
    "    patches_list = []\n",
    "    for i in range(0, npatches_vertical):\n",
    "        for j in range(0, npatches_horizontal):\n",
    "            x0, x1 = i * patch_sz, (i + 1) * patch_sz\n",
    "            y0, y1 = j * patch_sz, (j + 1) * patch_sz\n",
    "            patches_list.append(ext_x[x0:x1, y0:y1, :])\n",
    "    # model.predict() needs numpy array rather than a list\n",
    "    patches_array = np.asarray(patches_list)\n",
    "    # predictions:\n",
    "    patches_predict = model.predict(patches_array, batch_size=4)\n",
    "    prediction = np.zeros(shape=(extended_height, extended_width, n_classes), dtype=np.float32)\n",
    "    for k in range(patches_predict.shape[0]):\n",
    "        i = k // npatches_horizontal\n",
    "        j = k % npatches_vertical\n",
    "        x0, x1 = i * patch_sz, (i + 1) * patch_sz\n",
    "        y0, y1 = j * patch_sz, (j + 1) * patch_sz\n",
    "        prediction[x0:x1, y0:y1, :] = patches_predict[k, :, :, :]\n",
    "    return prediction[:img_height, :img_width, :]\n",
    "\n",
    "\n",
    "def picture_from_mask(mask, threshold=0):\n",
    "    colors = {\n",
    "        0: [150, 150, 150],  # Buildings\n",
    "        1: [223, 194, 125],  # Roads & Tracks\n",
    "        2: [27, 120, 55],    # Trees\n",
    "        3: [166, 219, 160],  # Crops\n",
    "        4: [116, 173, 209]   # Water\n",
    "    }\n",
    "    z_order = {\n",
    "        1: 3,\n",
    "        2: 4,\n",
    "        3: 0,\n",
    "        4: 1,\n",
    "        5: 2\n",
    "    }\n",
    "    pict = 255*np.ones(shape=(3, mask.shape[1], mask.shape[2]), dtype=np.uint8)\n",
    "    for i in range(1, 6):\n",
    "        cl = z_order[i]\n",
    "        for ch in range(3):\n",
    "            pict[ch,:,:][mask[cl,:,:] > threshold] = colors[cl][ch]\n",
    "    return pict\n",
    "\n",
    "\n",
    "if __name__ == '__main__':\n",
    "    model = get_model()\n",
    "    model.load_weights(weights_path)\n",
    "    test_id = 'test'\n",
    "    img = normalize(tiff.imread('data/mband/{}.tif'.format(test_id)).transpose([1,2,0]))   # make channels last\n",
    "    mask = predict(img, model, patch_sz=PATCH_SZ, n_classes=N_CLASSES).transpose([2,0,1])  # make channels first\n",
    "    map = picture_from_mask(mask, 0.5)\n",
    "\n",
    "    tiff.imsave('result.tif', (255*mask).astype('uint8'))\n",
    "    tiff.imsave('map.tif', map)"
   ]
  },
  {
   "cell_type": "code",
   "execution_count": 3,
   "metadata": {},
   "outputs": [
    {
     "name": "stdout",
     "output_type": "stream",
     "text": [
      "Help on function imwrite in module tifffile.tifffile:\n",
      "\n",
      "imwrite(file, data=None, shape=None, dtype=None, **kwargs)\n",
      "    Write numpy array to TIFF file.\n",
      "    \n",
      "    Refer to the TiffWriter class and its write function for documentation.\n",
      "    \n",
      "    A BigTIFF file is created if the data's size is larger than 4 GB minus\n",
      "    32 MB (for metadata), and 'bigtiff' is not specified, and 'imagej' or\n",
      "    'truncate' are not enabled.\n",
      "    \n",
      "    Parameters\n",
      "    ----------\n",
      "    file : str, path-like, or binary stream\n",
      "        File name or writable binary stream, such as an open file or BytesIO.\n",
      "    data : array-like\n",
      "        Input image. The last dimensions are assumed to be image depth,\n",
      "        length, width, and samples.\n",
      "        If None, an empty array of the specified shape and dtype is\n",
      "        saved to file.\n",
      "        Unless 'byteorder' is specified in 'kwargs', the TIFF file byte order\n",
      "        is determined from the data's dtype or the dtype argument.\n",
      "    shape : tuple\n",
      "        If 'data' is None, shape of an empty array to save to the file.\n",
      "    dtype : numpy.dtype\n",
      "        If 'data' is None, datatype of an empty array to save to the file.\n",
      "    kwargs : dict\n",
      "        Parameters 'append', 'byteorder', 'bigtiff', 'imagej', and 'ome',\n",
      "        are passed to TiffWriter().\n",
      "        Other parameters are passed to TiffWriter.write().\n",
      "    \n",
      "    Returns\n",
      "    -------\n",
      "    offset, bytecount : tuple or None\n",
      "        If the 'returnoffset' argument is True and the image data are written\n",
      "        contiguously, return offset and bytecount of image data in the file.\n",
      "\n"
     ]
    }
   ],
   "source": [
    "help(tiff.imsave)"
   ]
  },
  {
   "cell_type": "code",
   "execution_count": 2,
   "metadata": {},
   "outputs": [],
   "source": [
    "import tifffile as tiff"
   ]
  },
  {
   "cell_type": "code",
   "execution_count": null,
   "metadata": {},
   "outputs": [],
   "source": []
  },
  {
   "cell_type": "code",
   "execution_count": null,
   "metadata": {},
   "outputs": [],
   "source": []
  },
  {
   "cell_type": "code",
   "execution_count": null,
   "metadata": {},
   "outputs": [],
   "source": []
  },
  {
   "cell_type": "code",
   "execution_count": null,
   "metadata": {},
   "outputs": [],
   "source": []
  },
  {
   "cell_type": "code",
   "execution_count": null,
   "metadata": {},
   "outputs": [],
   "source": []
  },
  {
   "cell_type": "code",
   "execution_count": null,
   "metadata": {},
   "outputs": [],
   "source": []
  },
  {
   "cell_type": "code",
   "execution_count": null,
   "metadata": {},
   "outputs": [],
   "source": []
  },
  {
   "cell_type": "code",
   "execution_count": null,
   "metadata": {},
   "outputs": [],
   "source": []
  },
  {
   "cell_type": "code",
   "execution_count": null,
   "metadata": {},
   "outputs": [],
   "source": []
  },
  {
   "cell_type": "code",
   "execution_count": null,
   "metadata": {},
   "outputs": [],
   "source": []
  },
  {
   "cell_type": "code",
   "execution_count": null,
   "metadata": {},
   "outputs": [],
   "source": []
  },
  {
   "cell_type": "code",
   "execution_count": null,
   "metadata": {},
   "outputs": [],
   "source": []
  },
  {
   "cell_type": "code",
   "execution_count": null,
   "metadata": {},
   "outputs": [],
   "source": []
  },
  {
   "cell_type": "code",
   "execution_count": null,
   "metadata": {},
   "outputs": [],
   "source": []
  },
  {
   "cell_type": "code",
   "execution_count": null,
   "metadata": {},
   "outputs": [],
   "source": []
  },
  {
   "cell_type": "code",
   "execution_count": null,
   "metadata": {},
   "outputs": [],
   "source": []
  },
  {
   "cell_type": "code",
   "execution_count": null,
   "metadata": {},
   "outputs": [],
   "source": []
  },
  {
   "cell_type": "code",
   "execution_count": null,
   "metadata": {},
   "outputs": [],
   "source": []
  },
  {
   "cell_type": "code",
   "execution_count": null,
   "metadata": {},
   "outputs": [],
   "source": []
  },
  {
   "cell_type": "code",
   "execution_count": null,
   "metadata": {},
   "outputs": [],
   "source": []
  },
  {
   "cell_type": "code",
   "execution_count": null,
   "metadata": {},
   "outputs": [],
   "source": []
  },
  {
   "cell_type": "code",
   "execution_count": null,
   "metadata": {},
   "outputs": [],
   "source": []
  },
  {
   "cell_type": "code",
   "execution_count": null,
   "metadata": {},
   "outputs": [],
   "source": []
  },
  {
   "cell_type": "code",
   "execution_count": null,
   "metadata": {},
   "outputs": [],
   "source": []
  }
 ],
 "metadata": {
  "kernelspec": {
   "display_name": "Python 3",
   "language": "python",
   "name": "python3"
  },
  "language_info": {
   "codemirror_mode": {
    "name": "ipython",
    "version": 3
   },
   "file_extension": ".py",
   "mimetype": "text/x-python",
   "name": "python",
   "nbconvert_exporter": "python",
   "pygments_lexer": "ipython3",
   "version": "3.7.4"
  }
 },
 "nbformat": 4,
 "nbformat_minor": 2
}
